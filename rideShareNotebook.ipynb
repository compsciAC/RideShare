from pyspark.sql import SparkSession
from pyspark.sql.functions import split, to_timestamp

spark = SparkSession.builder.appName("RideShare").getOrCreate()

df = spark.read.csv("C:/Users/ThinkPad/Downloads/uber_data.csv", header=True, inferSchema=True)

df = df.withColumnRenamed("tpep_pickup_datetime", "pickup_datetime")
df = df.withColumnRenamed("tpep_dropoff_datetime", "dropoff_datetime")

to_timestamp(df["pickup_datetime"])
to_timestamp(df["dropoff_datetime"])

df = df.withColumn('trip_duration', df["dropoff_datetime"].cast("long") - df["pickup_datetime"].cast("long"))

df.show(5)
df.printSchema()

spark.stop()
