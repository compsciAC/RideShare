{
 "cells": [
  {
   "cell_type": "code",
   "execution_count": null,
   "id": "6f884688",
   "metadata": {},
   "outputs": [],
   "source": [
    "from pyspark.sql import SparkSession\n",
    "from pyspark.sql.functions import split, to_timestamp\n",
    "\n",
    "spark = SparkSession.builder.appName(\"RideShare\").getOrCreate()\n",
    "\n",
    "df = spark.read.csv(\"C:/Users/ThinkPad/Downloads/uber_data.csv\", header=True, inferSchema=True)"
   ]
  },
  {
   "cell_type": "code",
   "execution_count": null,
   "id": "6e1209ae",
   "metadata": {},
   "outputs": [],
   "source": [
    "df = df.withColumnRenamed(\"tpep_pickup_datetime\", \"pickup_datetime\")\n",
    "df = df.withColumnRenamed(\"tpep_dropoff_datetime\", \"dropoff_datetime\")\n",
    "\n",
    "to_timestamp(df[\"pickup_datetime\"])\n",
    "to_timestamp(df[\"dropoff_datetime\"])\n",
    "\n",
    "df = df.withColumn('trip_duration', df[\"dropoff_datetime\"].cast(\"long\") - df[\"pickup_datetime\"].cast(\"long\"))\n",
    "\n",
    "df.show(5)\n",
    "df.printSchema()"
   ]
  }
 ],
 "metadata": {
  "kernelspec": {
   "display_name": "Python 3 (ipykernel)",
   "language": "python",
   "name": "python3"
  },
  "language_info": {
   "codemirror_mode": {
    "name": "ipython",
    "version": 3
   },
   "file_extension": ".py",
   "mimetype": "text/x-python",
   "name": "python",
   "nbconvert_exporter": "python",
   "pygments_lexer": "ipython3",
   "version": "3.10.4"
  }
 },
 "nbformat": 4,
 "nbformat_minor": 5
}
